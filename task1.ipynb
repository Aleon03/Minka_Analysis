{
 "cells": [
  {
   "cell_type": "markdown",
   "metadata": {},
   "source": [
    "# TASK 1\n",
    "\n",
    "Este script  servirá  para extraer metricas generales a traves de la API de MINKA. A traves del ID de un proyecto se extraeran los siguientes parámetros.\n",
    "\n",
    "\n",
    "* Número de observaciones total\n",
    "* Número de personas que han subido observaciones\n",
    "* Número de especies registradas\n",
    "* Número de personas que han contribuido con identificaciones\n",
    "* Top 3 de personas con más observaciones\n",
    "* Últimas 5 especies diferentes registradas (especies de las últimas observaciones, si se repite la especie, buscas la siguiente hasta sacar las últimas 5 diferentes)\n",
    "* Número de observaciones mensuales desde enero 2024 (por fecha de observación, no fecha de subida, fíjate en los filtros de fecha), en formato tabla (dataframe de pandas):\n"
   ]
  },
  {
   "cell_type": "code",
   "execution_count": null,
   "metadata": {},
   "outputs": [],
   "source": [
    "# Enlace principal que utilizaremos para obtener los datos de los proyectos\n",
    "\n",
    "PROJECTS_PATH = 'https://minka-sdg.org/projects'"
   ]
  },
  {
   "cell_type": "code",
   "execution_count": null,
   "metadata": {},
   "outputs": [],
   "source": [
    "import requests\n",
    "import json\n",
    "import pandas as pd\n",
    "\n",
    "# El usuario inserta el id del proyecto que desea consultar y obtiene la información del proyecto en formato json.\n",
    "\n",
    "project_id = input('Inserta el id del proyecto :')\n",
    "\n",
    "url_id = f'{PROJECTS_PATH}/{project_id}.json'\n",
    "\n",
    "requests.get(url_id).json()"
   ]
  },
  {
   "cell_type": "markdown",
   "metadata": {},
   "source": [
    "* NÚMERO TOTAL DE OBSERVACIONES "
   ]
  },
  {
   "cell_type": "code",
   "execution_count": 81,
   "metadata": {},
   "outputs": [
    {
     "name": "stdout",
     "output_type": "stream",
     "text": [
      "El número total de observaciones del proyecto son : 92223\n"
     ]
    }
   ],
   "source": [
    "response = requests.get(url_id).json()['project_observations_count']\n",
    "\n",
    "print(f'El número total de observaciones del proyecto son : {response}')"
   ]
  },
  {
   "cell_type": "markdown",
   "metadata": {},
   "source": [
    "* NUMERO DE PERSONAS QUE HAN SUBIDO OBSERVACIONES"
   ]
  },
  {
   "cell_type": "code",
   "execution_count": 82,
   "metadata": {},
   "outputs": [
    {
     "name": "stdout",
     "output_type": "stream",
     "text": [
      "El número total de observadores del proyecto son : 487\n"
     ]
    }
   ],
   "source": [
    "OBSERVERS_PATH = 'https://api.minka-sdg.org/v1/observations/observers'\n",
    "\n",
    "url_observers = f'{OBSERVERS_PATH}?project_id={project_id}'\n",
    "\n",
    "response = requests.get(url_observers).json()['total_results']\n",
    "\n",
    "print(f'El número total de observadores del proyecto son : {response}')"
   ]
  },
  {
   "cell_type": "markdown",
   "metadata": {},
   "source": [
    "* NÚMERO DE ESPECIES REGISTRADAS"
   ]
  },
  {
   "cell_type": "code",
   "execution_count": 83,
   "metadata": {},
   "outputs": [
    {
     "name": "stdout",
     "output_type": "stream",
     "text": [
      "El número total de especies registradas en el proyecto son : 1742\n"
     ]
    }
   ],
   "source": [
    "SPECIES_PATH = 'https://api.minka-sdg.org/v1/observations/species_counts'\n",
    "\n",
    "url_species = f'{SPECIES_PATH}?project_id={project_id}'\n",
    "\n",
    "response = requests.get(url_species).json()['total_results']\n",
    "\n",
    "print(f'El número total de especies registradas en el proyecto son : {response}')"
   ]
  },
  {
   "cell_type": "markdown",
   "metadata": {},
   "source": [
    "* NÚMERO DE PERSONAS QUE HAN CONTRIBUIDO CON IDENTIFICACIONES"
   ]
  },
  {
   "cell_type": "code",
   "execution_count": 84,
   "metadata": {},
   "outputs": [
    {
     "name": "stdout",
     "output_type": "stream",
     "text": [
      "El número total de identificadores del proyecto son : 118\n"
     ]
    }
   ],
   "source": [
    "IDENTIFIERS_PATH = 'https://api.minka-sdg.org/v1/observations/identifiers'\n",
    "\n",
    "url_identifiers = f'{IDENTIFIERS_PATH}?project_id={project_id}'\n",
    "\n",
    "response = requests.get(url_identifiers).json()['total_results']\n",
    "\n",
    "print(f'El número total de identificadores del proyecto son : {response}')"
   ]
  },
  {
   "cell_type": "markdown",
   "metadata": {},
   "source": [
    "* TOP 3 PERSONAS CON MÁS OBSERVACIONES"
   ]
  },
  {
   "cell_type": "code",
   "execution_count": 85,
   "metadata": {},
   "outputs": [
    {
     "name": "stdout",
     "output_type": "stream",
     "text": [
      "TOP 3 PERSONAS CON MÁS OBSERVACIONES\n",
      "La tercera persona con más observaciones es: guillermoalvarez_fecdas con 5451 observaciones\n",
      "La segunda persona con más observaciones es: jastals con 5737 observaciones\n",
      "La primera persona con más observaciones es: ealcaniz con 6467 observaciones\n"
     ]
    }
   ],
   "source": [
    "OBSERVERS_PARTH = 'https://api.minka-sdg.org/v1/observations/observers'\n",
    "\n",
    "url_observers = f'{OBSERVERS_PATH}?project_id={project_id}'\n",
    "\n",
    "response = requests.get(url_observers).json()['results']\n",
    "\n",
    "# Tercer usuario con más observaciones\n",
    "user_data3 = response[2]['user']\n",
    "username3 = user_data3['login']\n",
    "user_observations3 = response[2]['observation_count']\n",
    "\n",
    "# Segundo usuario con más observaciones\n",
    "user_data2 = response[1]['user']\n",
    "username2 = user_data2['login']\n",
    "user_observations2 = response[1]['observation_count']\n",
    "\n",
    "# Primer usuario con más observaciones\n",
    "user_data1 = response[0]['user']\n",
    "username1 = user_data1['login']\n",
    "user_observations1 = response[0]['observation_count']\n",
    "\n",
    "print('TOP 3 PERSONAS CON MÁS OBSERVACIONES')\n",
    "\n",
    "print('La tercera persona con más observaciones es:', username3, 'con', user_observations3, 'observaciones')\n",
    "print('La segunda persona con más observaciones es:', username2, 'con', user_observations2, 'observaciones')\n",
    "print('La primera persona con más observaciones es:', username1, 'con', user_observations1, 'observaciones')"
   ]
  },
  {
   "cell_type": "markdown",
   "metadata": {},
   "source": [
    "* ULTIMAS 5 ESPECIES REGISTRADAS"
   ]
  },
  {
   "cell_type": "code",
   "execution_count": null,
   "metadata": {},
   "outputs": [
    {
     "name": "stdout",
     "output_type": "stream",
     "text": [
      "Nombre científco de la observación 1: Stramonita haemastoma\n",
      "Nombre científco de la observación 2: Octopus vulgaris\n",
      "Nombre científco de la observación 3: Sepia officinalis\n",
      "Nombre científco de la observación 4: Sabella spallanzanii\n",
      "Nombre científco de la observación 5: Loligo\n"
     ]
    }
   ],
   "source": [
    "OBSERVATIONS_PATH = 'https://api.minka-sdg.org/v1/observations'\n",
    "\n",
    "url_observations = f'{OBSERVATIONS_PATH}?project_id={project_id}'\n",
    "\n",
    "response = requests.get(url_observations).json()\n",
    "\n",
    "# Verificar si 'results' existe en la respuesta\n",
    "if 'results' in response:\n",
    "    unique_species = set()  # Almacenamos los nombres cientificos de las especies que se vayan registrando\n",
    "    count = 0 # Empezamos el contaje en 0 (por el principio)\n",
    "    for i, result in enumerate(response['results']):  # Enumarate es bastante útil porque nos permite recorrer todos los elementos que hay en results para luego definir las variables más fácilmente\n",
    "        taxon_name = result.get('taxon', {}).get('name', 'Desconocido')  # Evita errores si taxon o name no existen\n",
    "        print(f\"Nombre científco de la observación {i+1}: {taxon_name}\") # Lo he hecho con el nombre científico porque es más específico y universal (se podria hacer que también mostrara el nombre común)\n",
    "\n",
    "        if taxon_name not in unique_species: # Si el nombre de la especie no está en el conjunto de especies únicas, lo añadimos\n",
    "            unique_species.add(taxon_name)\n",
    "            count += 1\n",
    "        else: \n",
    "            print(f\"Ya se ha registrado esta observación {taxon_name}\") # Si ya está registrado, lo indicamos\n",
    "        if count == 5:\n",
    "            break\n",
    "else:\n",
    "    print(\"No se encontraron resultados.\")"
   ]
  },
  {
   "cell_type": "markdown",
   "metadata": {},
   "source": [
    "*  Número de observaciones mensuales desde enero 2024"
   ]
  },
  {
   "cell_type": "code",
   "execution_count": 86,
   "metadata": {},
   "outputs": [
    {
     "name": "stdout",
     "output_type": "stream",
     "text": [
      "        mes  num_observations\n",
      "0   2024-01                 0\n",
      "1   2024-02                 0\n",
      "2   2024-03                 0\n",
      "3   2024-04                 0\n",
      "4   2024-05              8492\n",
      "5   2024-06             11881\n",
      "6   2024-07             20678\n",
      "7   2024-08             30316\n",
      "8   2024-09             13808\n",
      "9   2024-10              7048\n",
      "10  2024-11                 0\n",
      "11  2024-12                 0\n"
     ]
    }
   ],
   "source": [
    "OBSERVATIONS_PATH = 'https://api.minka-sdg.org/v1/observations'\n",
    "\n",
    "year = input('Inserta el año de observación que deseas consultar :')\n",
    "\n",
    "url_observations_month = f'{OBSERVATIONS_PATH}/histogram?project_id={project_id}&year={year}&date_field=observed&interval=month_of_year'\n",
    "\n",
    "response = requests.get(url_observations_month).json()\n",
    "\n",
    "data = response['results']\n",
    "\n",
    "df = pd.DataFrame(\n",
    "    {\"mes\": [f\"{year}-{int(m):02d}\" for m in data[\"month_of_year\"].keys()],\n",
    "     \"num_observations\": list(data[\"month_of_year\"].values())}\n",
    ")\n",
    "\n",
    "print(df)"
   ]
  }
 ],
 "metadata": {
  "kernelspec": {
   "display_name": ".conda",
   "language": "python",
   "name": "python3"
  },
  "language_info": {
   "codemirror_mode": {
    "name": "ipython",
    "version": 3
   },
   "file_extension": ".py",
   "mimetype": "text/x-python",
   "name": "python",
   "nbconvert_exporter": "python",
   "pygments_lexer": "ipython3",
   "version": "3.11.11"
  }
 },
 "nbformat": 4,
 "nbformat_minor": 2
}
