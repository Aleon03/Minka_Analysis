{
 "cells": [
  {
   "cell_type": "markdown",
   "metadata": {},
   "source": [
    "Álex León Bernabé \n",
    "\n",
    "# INICIO MINKA ANALYSIS\n",
    "\n",
    "## Script con las funciones más útiles e importantes de la funcion de la API de /identifications."
   ]
  },
  {
   "cell_type": "code",
   "execution_count": 1,
   "metadata": {},
   "outputs": [],
   "source": [
    "import pandas as pd\n",
    "import requests"
   ]
  },
  {
   "cell_type": "markdown",
   "metadata": {},
   "source": [
    "##### No entiendo el resultado"
   ]
  },
  {
   "cell_type": "code",
   "execution_count": null,
   "metadata": {},
   "outputs": [],
   "source": [
    "url = \"https://minka-sdg.org:4000/v1/identifications/10256\"\n",
    "\n",
    "requests.get(url, verify=False).json()"
   ]
  },
  {
   "cell_type": "markdown",
   "metadata": {},
   "source": [
    "##### /identifications. No esoty seguro de como funciona pero diria que muestra informacion de los users identificadores."
   ]
  },
  {
   "cell_type": "code",
   "execution_count": null,
   "metadata": {},
   "outputs": [],
   "source": [
    "url = \"https://minka-sdg.org:4000/v1/identifications/\"\n",
    "\n",
    "requests.get(url, verify =False).json()[\"results\"]"
   ]
  },
  {
   "cell_type": "markdown",
   "metadata": {},
   "source": [
    "##### /categories, muestra 4 categorias diferentes \"suporting\", \"improving\", \"leading\", \"maverick\". Cada categoria indica el estado de las identificaciones, pero no se exactamente que significa cada uno."
   ]
  },
  {
   "cell_type": "code",
   "execution_count": null,
   "metadata": {},
   "outputs": [],
   "source": [
    "url = \"https://minka-sdg.org:4000/v1/identifications/categories\"\n",
    "\n",
    "requests.get(url, verify =False).json()"
   ]
  },
  {
   "cell_type": "markdown",
   "metadata": {},
   "source": [
    "##### /categories/species_count. Muestra la informacion principal de cada especie y el número de veces que se ha observado "
   ]
  },
  {
   "cell_type": "code",
   "execution_count": null,
   "metadata": {},
   "outputs": [],
   "source": [
    "url = \"https://minka-sdg.org:4000/v1/identifications/species_counts?current=true&order=desc&order_by=created_at&taxon_of=identification\"\n",
    "\n",
    "requests.get(url, verify=False).json()[\"results\"]"
   ]
  },
  {
   "cell_type": "markdown",
   "metadata": {},
   "source": [
    "##### identifcations/identifiers. Nos muestra las identificaciones realizadas por cada usuario."
   ]
  },
  {
   "cell_type": "code",
   "execution_count": null,
   "metadata": {},
   "outputs": [],
   "source": [
    "url = \"https://minka-sdg.org:4000/v1/identifications/identifiers?current=true&order=desc&order_by=created_at\"\n",
    "\n",
    "requests.get(url, verify=False).json()[\"results\"]"
   ]
  },
  {
   "cell_type": "markdown",
   "metadata": {},
   "source": [
    "##### identifications/observers. Muy parecido al anterior"
   ]
  },
  {
   "cell_type": "code",
   "execution_count": null,
   "metadata": {},
   "outputs": [],
   "source": [
    "url = \"https://minka-sdg.org:4000/v1/identifications/observers?current=true&order=desc&order_by=created_at\"\n",
    "\n",
    "requests.get(url, verify=False).json()[\"results\"]"
   ]
  },
  {
   "cell_type": "markdown",
   "metadata": {},
   "source": [
    "##### identifications/recent_taxa. "
   ]
  },
  {
   "cell_type": "code",
   "execution_count": null,
   "metadata": {},
   "outputs": [],
   "source": [
    "url = \"https://minka-sdg.org:4000/v1/identifications/recent_taxa\"\n",
    "\n",
    "requests.get(url, verify=False).json()[\"results\"]"
   ]
  },
  {
   "cell_type": "markdown",
   "metadata": {},
   "source": [
    "##### /identifcations/similar_taxes: (https://minka-sdg.org:4000/v1/identifications/similar_species?taxon_id=1616)"
   ]
  }
 ],
 "metadata": {
  "kernelspec": {
   "display_name": ".conda",
   "language": "python",
   "name": "python3"
  },
  "language_info": {
   "codemirror_mode": {
    "name": "ipython",
    "version": 3
   },
   "file_extension": ".py",
   "mimetype": "text/x-python",
   "name": "python",
   "nbconvert_exporter": "python",
   "pygments_lexer": "ipython3",
   "version": "3.11.11"
  }
 },
 "nbformat": 4,
 "nbformat_minor": 2
}
